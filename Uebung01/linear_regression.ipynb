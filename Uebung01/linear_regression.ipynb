{
 "cells": [
  {
   "cell_type": "code",
   "execution_count": 9,
   "id": "initial_id",
   "metadata": {
    "collapsed": true,
    "ExecuteTime": {
     "end_time": "2023-12-26T19:49:26.125912Z",
     "start_time": "2023-12-26T19:49:26.114099Z"
    }
   },
   "outputs": [
    {
     "ename": "ModuleNotFoundError",
     "evalue": "No module named 'sklearn'",
     "output_type": "error",
     "traceback": [
      "\u001B[0;31m---------------------------------------------------------------------------\u001B[0m",
      "\u001B[0;31mModuleNotFoundError\u001B[0m                       Traceback (most recent call last)",
      "Cell \u001B[0;32mIn[9], line 3\u001B[0m\n\u001B[1;32m      1\u001B[0m \u001B[38;5;28;01mimport\u001B[39;00m \u001B[38;5;21;01mnumpy\u001B[39;00m \u001B[38;5;28;01mas\u001B[39;00m \u001B[38;5;21;01mnp\u001B[39;00m\n\u001B[1;32m      2\u001B[0m \u001B[38;5;28;01mimport\u001B[39;00m \u001B[38;5;21;01mmatplotlib\u001B[39;00m\u001B[38;5;21;01m.\u001B[39;00m\u001B[38;5;21;01mpyplot\u001B[39;00m \u001B[38;5;28;01mas\u001B[39;00m \u001B[38;5;21;01mplt\u001B[39;00m\n\u001B[0;32m----> 3\u001B[0m \u001B[38;5;28;01mfrom\u001B[39;00m \u001B[38;5;21;01msklearn\u001B[39;00m\u001B[38;5;21;01m.\u001B[39;00m\u001B[38;5;21;01mlinear_model\u001B[39;00m \u001B[38;5;28;01mimport\u001B[39;00m LinearRegression\n\u001B[1;32m      4\u001B[0m \u001B[38;5;28;01mfrom\u001B[39;00m \u001B[38;5;21;01msklearn\u001B[39;00m\u001B[38;5;21;01m.\u001B[39;00m\u001B[38;5;21;01mmodel_selection\u001B[39;00m \u001B[38;5;28;01mimport\u001B[39;00m train_test_split\n",
      "\u001B[0;31mModuleNotFoundError\u001B[0m: No module named 'sklearn'"
     ]
    }
   ],
   "source": [
    "import numpy as np\n",
    "import matplotlib.pyplot as plt\n",
    "from sklearn.linear_model import LinearRegression\n",
    "from sklearn.model_selection import train_test_split"
   ]
  },
  {
   "cell_type": "code",
   "execution_count": 10,
   "outputs": [],
   "source": [
    "def load_data(name):\n",
    "    data = np.load(name)\n",
    "    x = data[:, :-1]\n",
    "    y = data[:, -1]\n",
    "    print(data)\n",
    "\n",
    "    return x, y"
   ],
   "metadata": {
    "collapsed": false,
    "ExecuteTime": {
     "end_time": "2023-12-26T19:49:26.611129Z",
     "start_time": "2023-12-26T19:49:26.606789Z"
    }
   },
   "id": "b3307268859e34fc"
  },
  {
   "cell_type": "code",
   "execution_count": null,
   "outputs": [],
   "source": [
    "def plot(x, y, w=None):\n",
    "    \"\"\"\n",
    "    only for plotting 2D data\n",
    "    \"\"\"\n",
    "\n",
    "    plt.plot(x, y, \".r\", markersize=8, label=\"Samples\")\n",
    "\n",
    "    # also plot the prediction\n",
    "    if not w is None:\n",
    "        x_plot = np.linspace(np.min(x), np.max(x), 100)\n",
    "        X_plot = np.column_stack([x_plot, np.ones(len(x_plot))])\n",
    "        # set plotting range properly\n",
    "        plt.ylim((np.min(y) * 1.2, np.max(y) * 1.2))\n",
    "\n",
    "        plt.plot(\n",
    "            X_plot[:, 0],\n",
    "            np.dot(X_plot, w),\n",
    "            linewidth=5,\n",
    "            color=\"tab:blue\",\n",
    "            label=\"Model\",\n",
    "        )\n",
    "\n",
    "    plt.tight_layout()\n",
    "    plt.show()"
   ],
   "metadata": {
    "collapsed": false,
    "is_executing": true
   },
   "id": "46b8ea9b1df4d0a1"
  },
  {
   "cell_type": "code",
   "execution_count": null,
   "outputs": [],
   "source": [
    "def linear_regression(X, y):\n",
    "    # code your solution here\n",
    "    X = np.block([[X, np.ones((len(X), 1))]])\n",
    "\n",
    "    # use linalg.solve, if there exists one deterministic solution to the\n",
    "    # least squares regression - so that an inverse of X.T @ X exists\n",
    "    w = np.linalg.solve(X.T @ X, X.T @ y)\n",
    "\n",
    "    # use linalg.lstsq instead of linalg solve in case \n",
    "    # X.T @ X is singular and therefore no exact solution / inverse exists\n",
    "    #w = np.linalg.lstsq(X, y, rcond=None)[0]\n",
    "    return w"
   ],
   "metadata": {
    "collapsed": false,
    "is_executing": true
   },
   "id": "8d147accb490ef0c"
  },
  {
   "cell_type": "code",
   "execution_count": null,
   "outputs": [],
   "source": [
    "    x, y = load_data(\"assets/dataset0.npy\")\n",
    "    w = linear_regression(x, y)\n",
    "    plot(x, y, w)"
   ],
   "metadata": {
    "collapsed": false,
    "is_executing": true
   },
   "id": "e6d3e89cded03504"
  },
  {
   "cell_type": "code",
   "execution_count": null,
   "outputs": [],
   "source": [
    "    x, y = load_data(\"assets/dataset1.npy\")\n",
    "    w = linear_regression(x, y)\n",
    "    plot(x, y, w)"
   ],
   "metadata": {
    "collapsed": false,
    "is_executing": true
   },
   "id": "ae77e14480891f4e"
  },
  {
   "cell_type": "code",
   "execution_count": null,
   "outputs": [],
   "source": [
    "    x, y = load_data(\"assets/dataset2.npy\")\n",
    "    w = linear_regression(x, y)\n",
    "    plot(x, y, w)"
   ],
   "metadata": {
    "collapsed": false,
    "is_executing": true
   },
   "id": "42b4dcf252582a0f"
  },
  {
   "cell_type": "code",
   "execution_count": null,
   "outputs": [],
   "source": [],
   "metadata": {
    "collapsed": false,
    "is_executing": true
   },
   "id": "ecb96a35de719e15"
  }
 ],
 "metadata": {
  "kernelspec": {
   "display_name": "Python 3",
   "language": "python",
   "name": "python3"
  },
  "language_info": {
   "codemirror_mode": {
    "name": "ipython",
    "version": 2
   },
   "file_extension": ".py",
   "mimetype": "text/x-python",
   "name": "python",
   "nbconvert_exporter": "python",
   "pygments_lexer": "ipython2",
   "version": "2.7.6"
  }
 },
 "nbformat": 4,
 "nbformat_minor": 5
}

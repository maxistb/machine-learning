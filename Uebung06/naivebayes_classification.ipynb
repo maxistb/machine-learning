{
 "cells": [
  {
   "cell_type": "code",
   "execution_count": 129,
   "metadata": {},
   "outputs": [],
   "source": [
    "import pandas as pd\n",
    "\n",
    "# imports for sklearn\n",
    "\n",
    "import numpy as np\n",
    "from matplotlib import pyplot as plt\n",
    "import seaborn as sns"
   ]
  },
  {
   "cell_type": "code",
   "execution_count": 143,
   "metadata": {},
   "outputs": [],
   "source": [
    "sns.set_style(\"whitegrid\")"
   ]
  },
  {
   "cell_type": "code",
   "execution_count": 3,
   "metadata": {},
   "outputs": [],
   "source": [
    "def load_text_dataset_pandas(dataset_path):\n",
    "    \"\"\"This function loads CSV datasets using the read_csv method of the pandas library.\n",
    "    The CSV is epxected to be comma-separated, while separate examples are separated by new line.\n",
    "    First entry is expected to be text, second entry is parsed as classification label.\"\"\"\n",
    "    df = pd.read_csv(dataset_path)\n",
    "\n",
    "    X = df.iloc[:, 0].to_numpy()\n",
    "    y = df.iloc[:, 1].to_numpy()\n",
    "\n",
    "    return X, y"
   ]
  },
  {
   "cell_type": "code",
   "execution_count": 4,
   "metadata": {},
   "outputs": [],
   "source": [
    "def vectorize_text(X_train, X_test):\n",
    "    # train tf-idf vectorizer\n",
    "        # HINT: On which data sets should the IDF be calculated\n",
    "        # to prevent data leakage?\n",
    "    # transform X_train\n",
    "    # transform X_test\n",
    "    # return them\n",
    "\n",
    "    return V_train, V_test"
   ]
  },
  {
   "attachments": {},
   "cell_type": "markdown",
   "metadata": {},
   "source": [
    "#### 20newsgroups dataset - multiclass classification"
   ]
  },
  {
   "cell_type": "code",
   "execution_count": 5,
   "metadata": {},
   "outputs": [],
   "source": [
    "# load news group dataset\n",
    "# split data in accordance to exercise\n",
    "# vectorize data\n",
    "# train classifier\n",
    "# build confusion matrix\n",
    "\n",
    "# find accuracy"
   ]
  },
  {
   "attachments": {},
   "cell_type": "markdown",
   "metadata": {},
   "source": [
    "#### Spam - No spam"
   ]
  },
  {
   "cell_type": "code",
   "execution_count": 6,
   "metadata": {},
   "outputs": [],
   "source": [
    "# same procedure as in 20news groups dataset\n",
    "# build confusion matrix\n",
    "# find accuracy, precision, recall, f1-score PER CLASS"
   ]
  }
 ],
 "metadata": {
  "kernelspec": {
   "display_name": "ml_teaching",
   "language": "python",
   "name": "python3"
  },
  "language_info": {
   "codemirror_mode": {
    "name": "ipython",
    "version": 3
   },
   "file_extension": ".py",
   "mimetype": "text/x-python",
   "name": "python",
   "nbconvert_exporter": "python",
   "pygments_lexer": "ipython3",
   "version": "3.9.16"
  },
  "orig_nbformat": 4,
  "vscode": {
   "interpreter": {
    "hash": "0fc36ab0d55a6a226ae882655424b723ba299a7c7e2b24a1d4fe088de8ed7471"
   }
  }
 },
 "nbformat": 4,
 "nbformat_minor": 2
}

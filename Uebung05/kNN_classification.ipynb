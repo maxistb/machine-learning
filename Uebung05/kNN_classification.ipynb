{
 "cells": [
  {
   "cell_type": "code",
   "execution_count": 202,
   "metadata": {},
   "outputs": [],
   "source": [
    "import pandas as pd\n",
    "import numpy as np\n",
    "\n",
    "from matplotlib import pyplot as plt\n",
    "\n",
    "# TODO:\n",
    "# Decide which methods, modules, classes from scikit learn do you need?\n",
    "\n",
    "from glob import glob"
   ]
  },
  {
   "cell_type": "code",
   "execution_count": 203,
   "metadata": {},
   "outputs": [],
   "source": [
    "def kfold_crossval(classifier, X, y, k=10):\n",
    "    # TODO:\n",
    "    # Estimate model performance for given classifier\n",
    "    # Evaluate on k-fold split the validation and train error\n",
    "        # HINT: we are working with classes and classification data\n",
    "        # What does this mean for the cross validation method?\n",
    "    # Return metric for model selection\n",
    "    pass "
   ]
  },
  {
   "cell_type": "code",
   "execution_count": 204,
   "metadata": {},
   "outputs": [],
   "source": [
    "def find_best_classifer_hyperparam(X, y, classifier, hyperparam_name, hyperparam_values):\n",
    "    # TODO:\n",
    "    # Run for different hyperparameters:\n",
    "        # Train model with given hyper parameter\n",
    "        # estimate performance with k-fold cross-validation\n",
    "    # Return best hyperparameter and model"
   ]
  },
  {
   "cell_type": "code",
   "execution_count": null,
   "metadata": {},
   "outputs": [],
   "source": [
    "# Task 1:\n",
    "# TODO:\n",
    "# Load 2-D dataset\n",
    "# Find best k for kNN model\n",
    "# Visualize test set predictions\n",
    "    # prediction surfaces"
   ]
  },
  {
   "cell_type": "code",
   "execution_count": null,
   "metadata": {},
   "outputs": [],
   "source": [
    "# Task 2:\n",
    "# TODO:\n",
    "# Load Datasets\n",
    "# For each dataset\n",
    "    # Finds best k for kNN model\n",
    "    # report best accuracy\n",
    "# For each dataset\n",
    "    # Try the same, but scale the data before"
   ]
  }
 ],
 "metadata": {
  "kernelspec": {
   "display_name": "mmpdb",
   "language": "python",
   "name": "python3"
  },
  "language_info": {
   "codemirror_mode": {
    "name": "ipython",
    "version": 3
   },
   "file_extension": ".py",
   "mimetype": "text/x-python",
   "name": "python",
   "nbconvert_exporter": "python",
   "pygments_lexer": "ipython3",
   "version": "3.9.16"
  },
  "orig_nbformat": 4
 },
 "nbformat": 4,
 "nbformat_minor": 2
}

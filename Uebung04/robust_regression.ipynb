{
 "cells": [
  {
   "cell_type": "code",
   "execution_count": 25,
   "metadata": {},
   "outputs": [],
   "source": [
    "import numpy as np\n",
    "from matplotlib import pyplot as plt\n",
    "import csv\n",
    "\n",
    "# sklearn imports robust models and maybe losses (not asked in assignment)"
   ]
  },
  {
   "cell_type": "code",
   "execution_count": 26,
   "metadata": {},
   "outputs": [],
   "source": [
    "def load_dataset_csv(data_path):\n",
    "    \"\"\"Reads from a csv file assuming two columns (2D) representing X and y\n",
    "    of a regression problem.\"\"\"\n",
    "    with open(data_path, newline='') as f:\n",
    "        csv_reader = csv.reader(f)    \n",
    "\n",
    "        next(csv_reader)\n",
    "\n",
    "        X = []\n",
    "        y = []\n",
    "\n",
    "        for row in csv_reader:\n",
    "            X.append(row[0])\n",
    "            y.append(row[1])\n",
    "        \n",
    "    X = np.array(X, dtype=float)\n",
    "    y = np.array(y, dtype=float)\n",
    "\n",
    "    return X, y"
   ]
  },
  {
   "cell_type": "code",
   "execution_count": 80,
   "metadata": {},
   "outputs": [],
   "source": [
    "def plot_predictions(X, ax, label, model, n=None):\n",
    "    \"\"\"\n",
    "    This function plots X and y predictions of a model in the range indicated by\n",
    "    X and y (X must be 1-D) of a given linear scikit learn model. The X values\n",
    "    for plotting the model predictions are extended to polynomial features if n is given.\n",
    "    The X values for plotting the model predictions are extended to polynomial features of \n",
    "    degree n in descending order (x^n, x^(n-1), ...)\n",
    "    This function does not create a figure but takes a matplotlib Axes object\n",
    "    for plotting. Therefore it can be used several times to plot on one Axes.\n",
    "    \"\"\"\n",
    "\n",
    "    X_plot = np.linspace(np.min(X), np.max(X), 100).reshape(-1, 1)\n",
    "    if n:\n",
    "        X_poly_plot = np.vander(X_plot[:, 0], N=n+1)\n",
    "        y_plot = model.predict(X_poly_plot)\n",
    "    else:\n",
    "        y_plot = model.predict(X_plot)\n",
    "\n",
    "    ax.plot(\n",
    "        X_plot[:, 0],\n",
    "        y_plot,\n",
    "        linewidth=2,\n",
    "        label=label,\n",
    "    )"
   ]
  },
  {
   "cell_type": "code",
   "execution_count": null,
   "metadata": {},
   "outputs": [],
   "source": [
    "# For each dataset:\n",
    "    # Plot data\n",
    "    # Train robust regressors\n",
    "    # Plot best model fit\n",
    "    # Compare models"
   ]
  }
 ],
 "metadata": {
  "kernelspec": {
   "display_name": "Python 3",
   "language": "python",
   "name": "python3"
  },
  "language_info": {
   "codemirror_mode": {
    "name": "ipython",
    "version": 3
   },
   "file_extension": ".py",
   "mimetype": "text/x-python",
   "name": "python",
   "nbconvert_exporter": "python",
   "pygments_lexer": "ipython3",
   "version": "3.8.10 (default, May 26 2023, 14:05:08) \n[GCC 9.4.0]"
  },
  "orig_nbformat": 4,
  "vscode": {
   "interpreter": {
    "hash": "916dbcbb3f70747c44a77c7bcd40155683ae19c65e1c03b4aa3499c5328201f1"
   }
  }
 },
 "nbformat": 4,
 "nbformat_minor": 2
}

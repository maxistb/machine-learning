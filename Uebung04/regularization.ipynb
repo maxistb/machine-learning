{
 "cells": [
  {
   "cell_type": "code",
   "execution_count": 1,
   "metadata": {
    "ExecuteTime": {
     "end_time": "2023-12-28T08:41:05.805470Z",
     "start_time": "2023-12-28T08:41:05.158504Z"
    }
   },
   "outputs": [],
   "source": [
    "import numpy as np\n",
    "from matplotlib import pyplot as plt\n",
    "import csv\n",
    "from sklearn.model_selection import ShuffleSplit\n",
    "from sklearn.linear_model import Ridge\n",
    "from sklearn.metrics import mean_squared_error\n",
    "\n",
    "# sklearn imports for crossval, model and losses"
   ]
  },
  {
   "cell_type": "code",
   "execution_count": 2,
   "metadata": {
    "ExecuteTime": {
     "end_time": "2023-12-28T08:41:06.344302Z",
     "start_time": "2023-12-28T08:41:06.339810Z"
    }
   },
   "outputs": [],
   "source": [
    "def plot_samples(X, y):\n",
    "    fig, ax = plt.subplots()\n",
    "    ax.scatter(X, y, s=4, label=\"Samples\")\n",
    "    ax.set_xlabel(\"X\")\n",
    "    ax.set_ylabel(\"y\")\n",
    "\n",
    "    fig.tight_layout()"
   ]
  },
  {
   "cell_type": "code",
   "execution_count": 3,
   "metadata": {
    "ExecuteTime": {
     "end_time": "2023-12-28T08:41:07.545257Z",
     "start_time": "2023-12-28T08:41:07.540589Z"
    }
   },
   "outputs": [],
   "source": [
    "def plot_samples_and_poly_predictions(X, y, model, n):\n",
    "    \"\"\"\n",
    "    This function plots X and y predictions of a model in the range indicated by\n",
    "    X and y (X must be 1-D) of a given linear scikit learn model. The X values for\n",
    "    plotting the model predictions are extended to polynomial features of \n",
    "    degree n in descending order (x^n, x^(n-1), ...)\n",
    "    \"\"\"\n",
    "\n",
    "    fig, ax = plt.subplots()\n",
    "    ax.scatter(X, y, s=4, label=\"Samples\")\n",
    "\n",
    "    X_pred = np.linspace(np.min(X), np.max(X), 100)\n",
    "    X_pred_poly = np.vander(X_pred, N=n+1)\n",
    "\n",
    "    y_plot = model.predict(X_pred_poly)\n",
    "\n",
    "    ax.plot(\n",
    "        X_pred,\n",
    "        y_plot,\n",
    "        linewidth=2,\n",
    "        label=\"Model\",\n",
    "    )\n",
    "    ax.set_xlabel(\"X\")\n",
    "    ax.set_ylabel(\"y\")\n",
    "    ax.legend()\n",
    "    \n",
    "    fig.tight_layout()"
   ]
  },
  {
   "cell_type": "code",
   "execution_count": 4,
   "metadata": {
    "ExecuteTime": {
     "end_time": "2023-12-28T08:41:09.005440Z",
     "start_time": "2023-12-28T08:41:08.999575Z"
    }
   },
   "outputs": [],
   "source": [
    "def load_dataset_csv(data_path):\n",
    "    \"\"\"Reads from a csv file assuming two columns (2D) representing X and y\n",
    "    of a regression problem.\"\"\"\n",
    "    with open(data_path, newline='') as f:\n",
    "        csv_reader = csv.reader(f)    \n",
    "\n",
    "        next(csv_reader)\n",
    "\n",
    "        X = []\n",
    "        y = []\n",
    "\n",
    "        for row in csv_reader:\n",
    "            X.append(row[0])\n",
    "            y.append(row[1])\n",
    "        \n",
    "    X = np.array(X, dtype=float)\n",
    "    y = np.array(y, dtype=float)\n",
    "\n",
    "    return X, y"
   ]
  },
  {
   "cell_type": "code",
   "execution_count": 5,
   "metadata": {
    "ExecuteTime": {
     "end_time": "2023-12-28T08:47:55.534178Z",
     "start_time": "2023-12-28T08:47:55.527149Z"
    }
   },
   "outputs": [],
   "source": [
    "def kfold_crossval(regressor, X, y, k=10):\n",
    "    \"\"\"Function to evaluate a scikit learn model in 10-fold shuffled\n",
    "    split cross validation. \n",
    "    \"\"\"\n",
    "    # Estimate model performance for given regularization parameter\n",
    "    shuffled_kfold = ShuffleSplit(n_splits=10, train_size=0.9, random_state=42)\n",
    "    val_losses = np.empty((k,))\n",
    "    train_losses = np.empty((k,))\n",
    "    \n",
    "    for i, (train_index, val_index) in enumerate(shuffled_kfold.split(X)):\n",
    "        X_train, X_val = X[train_index], X[val_index]\n",
    "        y_train, y_val = y[train_index], y[val_index]\n",
    "        \n",
    "        regressor.fit(X_train, y_train)\n",
    "        y_val_predict = regressor.predict(X_val)\n",
    "        y_train_predict = regressor.predict(X_train)\n",
    "        \n",
    "        val_losses[i] = mean_squared_error(y_val, y_val_predict)\n",
    "        train_losses[i] = mean_squared_error(y_train, y_train_predict)\n",
    "    \n",
    "    return np.mean(val_losses), np.mean(train_losses)"
   ]
  },
  {
   "cell_type": "code",
   "execution_count": 68,
   "metadata": {},
   "outputs": [],
   "source": [
    "def regularization_path(X, y, alphas):\n",
    "    \"\"\"Samples a regularization path given X, y and alphas (regularization\n",
    "    parameters) for a linear, l2 regularized model.\"\"\" \n",
    "\n",
    "    # Run for different alphas (regularization parameters):\n",
    "        # Train regularized model\n",
    "        # estimate performance with k-fold cross-validation\n",
    "    # Plot regularization path\n",
    "    # Return best alpha or model\n",
    "    \n",
    "    pass"
   ]
  },
  {
   "cell_type": "code",
   "execution_count": null,
   "metadata": {},
   "outputs": [],
   "source": [
    "# For each dataset:\n",
    "    # Plot data\n",
    "    # Find best regularized model\n",
    "    # Plot regularization path\n",
    "    # Plot best model fit"
   ]
  }
 ],
 "metadata": {
  "kernelspec": {
   "display_name": "Python 3",
   "language": "python",
   "name": "python3"
  },
  "language_info": {
   "codemirror_mode": {
    "name": "ipython",
    "version": 3
   },
   "file_extension": ".py",
   "mimetype": "text/x-python",
   "name": "python",
   "nbconvert_exporter": "python",
   "pygments_lexer": "ipython3",
   "version": "3.8.10 (default, May 26 2023, 14:05:08) \n[GCC 9.4.0]"
  },
  "orig_nbformat": 4,
  "vscode": {
   "interpreter": {
    "hash": "916dbcbb3f70747c44a77c7bcd40155683ae19c65e1c03b4aa3499c5328201f1"
   }
  }
 },
 "nbformat": 4,
 "nbformat_minor": 2
}
